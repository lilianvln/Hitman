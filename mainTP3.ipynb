{
 "cells": [
  {
   "cell_type": "markdown",
   "source": [
    "# I - Présentation du sujet"
   ],
   "metadata": {
    "collapsed": false
   }
  },
  {
   "cell_type": "code",
   "execution_count": 16,
   "metadata": {
    "collapsed": true
   },
   "outputs": [],
   "source": [
    "from typing import List, Tuple\n",
    "import subprocess"
   ]
  },
  {
   "cell_type": "code",
   "execution_count": 17,
   "outputs": [],
   "source": [
    "# alias de types\n",
    "Grid = List[List[int]]\n",
    "PropositionnalVariable = int\n",
    "Literal = int\n",
    "Clause = List[Literal]\n",
    "ClauseBase = List[Clause]\n",
    "Model = List[Literal]"
   ],
   "metadata": {
    "collapsed": false
   }
  },
  {
   "cell_type": "code",
   "execution_count": 18,
   "outputs": [],
   "source": [
    "example: Grid = [\n",
    "    [5, 3, 0, 0, 7, 0, 0, 0, 0],\n",
    "    [6, 0, 0, 1, 9, 5, 0, 0, 0],\n",
    "    [0, 9, 8, 0, 0, 0, 0, 6, 0],\n",
    "    [8, 0, 0, 0, 6, 0, 0, 0, 3],\n",
    "    [4, 0, 0, 8, 0, 3, 0, 0, 1],\n",
    "    [7, 0, 0, 0, 2, 0, 0, 0, 6],\n",
    "    [0, 6, 0, 0, 0, 0, 2, 8, 0],\n",
    "    [0, 0, 0, 4, 1, 9, 0, 0, 5],\n",
    "    [0, 0, 0, 0, 8, 0, 0, 7, 9],\n",
    "]"
   ],
   "metadata": {
    "collapsed": false
   }
  },
  {
   "cell_type": "code",
   "execution_count": null,
   "outputs": [],
   "source": [
    "example2: Grid = [\n",
    "    [0, 0, 0, 0, 2, 7, 5, 8, 0],\n",
    "    [1, 0, 0, 0, 0, 0, 0, 4, 6],\n",
    "    [0, 0, 0, 0, 0, 9, 0, 0, 0],\n",
    "    [0, 0, 3, 0, 0, 0, 0, 0, 0],\n",
    "    [0, 0, 0, 0, 0, 5, 0, 2, 0],\n",
    "    [0, 0, 0, 8, 1, 0, 0, 0, 0],\n",
    "    [4, 0, 6, 3, 0, 1, 0, 0, 9],\n",
    "    [8, 0, 0, 0, 0, 0, 0, 0, 0],\n",
    "    [7, 2, 0, 0, 0, 0, 3, 1, 0],\n",
    "]"
   ],
   "metadata": {
    "collapsed": false,
    "pycharm": {
     "is_executing": true
    }
   }
  },
  {
   "cell_type": "code",
   "execution_count": 20,
   "outputs": [],
   "source": [
    "empty_grid: Grid = [\n",
    "    [0, 0, 0, 0, 0, 0, 0, 0, 0],\n",
    "    [0, 0, 0, 0, 0, 0, 0, 0, 0],\n",
    "    [0, 0, 0, 0, 0, 0, 0, 0, 0],\n",
    "    [0, 0, 0, 0, 0, 0, 0, 0, 0],\n",
    "    [0, 0, 0, 0, 0, 0, 0, 0, 0],\n",
    "    [0, 0, 0, 0, 0, 0, 0, 0, 0],\n",
    "    [0, 0, 0, 0, 0, 0, 0, 0, 0],\n",
    "    [0, 0, 0, 0, 0, 0, 0, 0, 0],\n",
    "    [0, 0, 0, 0, 0, 0, 0, 0, 0],\n",
    "]"
   ],
   "metadata": {
    "collapsed": false
   }
  },
  {
   "cell_type": "code",
   "execution_count": 21,
   "outputs": [],
   "source": [
    "def write_dimacs_file(dimacs: str, filename: str):\n",
    "    with open(filename, \"w\", newline=\"\") as cnf:\n",
    "        cnf.write(dimacs)\n",
    "\n",
    "\n",
    "def exec_gophersat(\n",
    "    filename: str, cmd: str = \"gophersat\", encoding: str = \"utf8\"\n",
    ") -> Tuple[bool, List[int]]:\n",
    "    result = subprocess.run(\n",
    "        [cmd, filename], capture_output=True, check=True, encoding=encoding\n",
    "    )\n",
    "    string = str(result.stdout)\n",
    "    lines = string.splitlines()\n",
    "\n",
    "    if lines[1] != \"s SATISFIABLE\":\n",
    "        return False, []\n",
    "\n",
    "    model = lines[2][2:-2].split(\" \")\n",
    "\n",
    "    return True, [int(x) for x in model]"
   ],
   "metadata": {
    "collapsed": false
   }
  },
  {
   "cell_type": "code",
   "execution_count": 22,
   "outputs": [],
   "source": [
    "def main():\n",
    "    pass\n",
    "\n",
    "\n",
    "if __name__ == \"__main__\":\n",
    "    main()"
   ],
   "metadata": {
    "collapsed": false
   }
  },
  {
   "cell_type": "markdown",
   "source": [
    "### Questions préliminaires indispensables à la suite..."
   ],
   "metadata": {
    "collapsed": false
   }
  },
  {
   "cell_type": "raw",
   "source": [
    "1. Combien de variables propositionnelles sont nécessaires ?\n",
    "Il y a besoin de 81*29=729 variables\n",
    "1 -> (ligne,colonne,valeur)\n",
    "\n",
    "2. Étant donné un ensemble de variables propositionnelles, que signifient les contraintes at_least_one et unique sur cet ensemble ? Quel rapport avec un XOR ? Comment les\n",
    "écrit-on avec des clauses ?\n",
    "at_least_one([x0,x1,x2,...,xm]) -> x0 V x1 V x2 V ... V xm\n",
    "\n",
    "unique([x0,x1,x2,...,xm]) -> x0 V x1 V x2 V ... V xm\n",
    "                          -> not(x0) V not(x1)\n",
    "                          -> not(x0) V not(x2)\n",
    "                          -> not(x0) V not(x3)\n",
    "                                   ...\n",
    "                          -> not(x0) V not(xm)\n",
    "                                   ...\n",
    "                          -> not(x1) V not(x2)\n",
    "                          -> not(x1) V not(x3)\n",
    "                                   ...\n",
    "                          -> not(x1) V not(xm)\n",
    "                                   ...\n",
    "                          -> not(xm-1) V not(xm)\n",
    "\n",
    "Exemple unique à 2 variable : unique(x0, x1) -> (x0 V x1) AND (not(x0) V not(x1))\n",
    "\n",
    "3. Comment modélise-t-on les règles génériques du Sudoku en logique propositionnelle à l’aide de ces contraintes ?\n",
    "Règle SUDOKU : 1ere règle -> chaque case contient 1 nombre de 1 à 9\n",
    "               2eme règle -> chaque valeur n'apparait qu'une fois par ligne\n",
    "               3eme règle -> chaque valeur n'apparait qu'une fois par colonne\n",
    "               4eme règle -> chaque valeur n'apparait qu'une fois par carré\n",
    "\n",
    "Règle cnf    : 1ere règle -> unique(x(0,0,0), x(0,0,1), ..., x(0,0,8))       //Pour la case 0,0\n",
    "                          -> unique(x(0,1,0), x(0,1,1), ..., x(0,1,8))       //Pour la case 0,1\n",
    "                                            ...\n",
    "                          -> unique(x(8,8,0), x(8,8,1), ..., x(8,8,8))       //Pour la case 8,8\n",
    "Il y a donc 81*37 lignes\n",
    "------------------------------------------------------------------------------------------------------------------\n",
    "               2eme règle -> at_least_one(x(0,0,0), x(0,1,0), ..., x(0,8,0))\n",
    "                          -> at_least_one(x(0,0,1), x(0,1,1), ..., x(0,8,1))\n",
    "                                            ...\n",
    "                          -> at_least_one(x(0,0,8), x(0,1,8), ..., x(0,8,8))\n",
    "\n",
    "4. Comment peut-on intégrer les valeurs d’une grille donnée à la précédente modélisation ?\n",
    "Il suffit d'entrer les valeurs que chacune des cases.\n"
   ],
   "metadata": {
    "collapsed": false
   }
  },
  {
   "cell_type": "markdown",
   "source": [
    "## Choix de représentation des données"
   ],
   "metadata": {
    "collapsed": false
   }
  },
  {
   "cell_type": "raw",
   "source": [
    "\n"
   ],
   "metadata": {
    "collapsed": false
   }
  },
  {
   "cell_type": "markdown",
   "source": [
    "# II. Création des fonctions utilitaires de conversion"
   ],
   "metadata": {
    "collapsed": false
   }
  },
  {
   "cell_type": "raw",
   "source": [
    "cell_to_var : (i,j,val) -> 81*i + 9*j + val + 1\n",
    "var_to_cell : i   = (p-1)//81\n",
    "              j   = ((p-1)%81)//9\n",
    "              val = (p-1)%9\n"
   ],
   "metadata": {
    "collapsed": false
   }
  },
  {
   "cell_type": "code",
   "execution_count": 24,
   "outputs": [],
   "source": [
    "def cell_to_var(i,j,val):\n",
    "    return 81*i + 9*j + val +1"
   ],
   "metadata": {
    "collapsed": false
   }
  },
  {
   "cell_type": "code",
   "execution_count": 25,
   "outputs": [],
   "source": [
    "def var_to_cell(p):\n",
    "    i = (p-1)//81\n",
    "    j = ((p-1)%81)//9\n",
    "    val = (p-1)%9\n",
    "    return i,j,val"
   ],
   "metadata": {
    "collapsed": false
   }
  },
  {
   "cell_type": "code",
   "execution_count": 94,
   "outputs": [
    {
     "name": "stdout",
     "output_type": "stream",
     "text": [
      "113\n",
      "10\n",
      "81\n",
      "(0, 0, 0)\n",
      "(1, 3, 4)\n"
     ]
    }
   ],
   "source": [
    "print(cell_to_var(1, 3, 4))\n",
    "print(cell_to_var(0, 1, 0))\n",
    "print(cell_to_var(0, 8, 8))\n",
    "print(var_to_cell(1))\n",
    "print(var_to_cell(113))"
   ],
   "metadata": {
    "collapsed": false
   }
  },
  {
   "cell_type": "markdown",
   "source": [
    "# III. Génération du problème"
   ],
   "metadata": {
    "collapsed": false
   }
  },
  {
   "cell_type": "code",
   "execution_count": 29,
   "outputs": [],
   "source": [
    "def at_least_one(var):\n",
    "    return var"
   ],
   "metadata": {
    "collapsed": false
   }
  },
  {
   "cell_type": "code",
   "execution_count": 90,
   "outputs": [
    {
     "data": {
      "text/plain": "[1, 3, 5]"
     },
     "execution_count": 90,
     "metadata": {},
     "output_type": "execute_result"
    }
   ],
   "source": [
    "at_least_one([1, 3, 5])"
   ],
   "metadata": {
    "collapsed": false
   }
  },
  {
   "cell_type": "code",
   "execution_count": 83,
   "outputs": [],
   "source": [
    "def unique(var):\n",
    "    res = []\n",
    "    res.append(at_least_one(var))\n",
    "    for i in range(len(var)):\n",
    "        for j in range(i+1,len(var)):\n",
    "            res.append([-var[i],-var[j]])\n",
    "    return res"
   ],
   "metadata": {
    "collapsed": false
   }
  },
  {
   "cell_type": "code",
   "execution_count": 84,
   "outputs": [
    {
     "name": "stdout",
     "output_type": "stream",
     "text": [
      "[[1, 3, 5, 7], [-1, -3], [-1, -5], [-1, -7], [-3, -5], [-3, -7], [-5, -7]]\n"
     ]
    }
   ],
   "source": [
    "print(unique([1, 3, 5, 7]))"
   ],
   "metadata": {
    "collapsed": false
   }
  },
  {
   "cell_type": "code",
   "execution_count": 85,
   "outputs": [
    {
     "ename": "SyntaxError",
     "evalue": "unexpected EOF while parsing (4113272083.py, line 2)",
     "output_type": "error",
     "traceback": [
      "\u001B[0;36m  Cell \u001B[0;32mIn[85], line 2\u001B[0;36m\u001B[0m\n\u001B[0;31m    \u001B[0m\n\u001B[0m    ^\u001B[0m\n\u001B[0;31mSyntaxError\u001B[0m\u001B[0;31m:\u001B[0m unexpected EOF while parsing\n"
     ]
    }
   ],
   "source": [
    "def create_cell_constraints():\n"
   ],
   "metadata": {
    "collapsed": false
   }
  },
  {
   "cell_type": "code",
   "execution_count": 86,
   "outputs": [
    {
     "ename": "SyntaxError",
     "evalue": "invalid syntax (827698691.py, line 2)",
     "output_type": "error",
     "traceback": [
      "\u001B[0;36m  Cell \u001B[0;32mIn[86], line 2\u001B[0;36m\u001B[0m\n\u001B[0;31m    ClauseBase create_column_constraints() -> ClauseBase create_box_constraints() -> ClauseBase\u001B[0m\n\u001B[0m               ^\u001B[0m\n\u001B[0;31mSyntaxError\u001B[0m\u001B[0;31m:\u001B[0m invalid syntax\n"
     ]
    }
   ],
   "source": [
    "def create_line_constraints():\n"
   ],
   "metadata": {
    "collapsed": false
   }
  },
  {
   "cell_type": "code",
   "execution_count": 87,
   "outputs": [
    {
     "ename": "SyntaxError",
     "evalue": "invalid syntax (1767226170.py, line 1)",
     "output_type": "error",
     "traceback": [
      "\u001B[0;36m  Cell \u001B[0;32mIn[87], line 1\u001B[0;36m\u001B[0m\n\u001B[0;31m    ClauseBase create_column_constraints()\u001B[0m\n\u001B[0m               ^\u001B[0m\n\u001B[0;31mSyntaxError\u001B[0m\u001B[0;31m:\u001B[0m invalid syntax\n"
     ]
    }
   ],
   "source": [
    "def ClauseBase create_column_constraints():"
   ],
   "metadata": {
    "collapsed": false
   }
  },
  {
   "cell_type": "code",
   "execution_count": 106,
   "outputs": [],
   "source": [
    "def create_box_constraints():\n",
    "    box_constraints = []\n",
    "    var = []\n",
    "    for i in range(1, 10):\n"
   ],
   "metadata": {
    "collapsed": false
   }
  },
  {
   "cell_type": "code",
   "execution_count": 107,
   "outputs": [
    {
     "name": "stdout",
     "output_type": "stream",
     "text": [
      "[[1, 2, 3, 4, 5, 6, 7, 8, 9, 10, 2, 3, 4, 5, 6, 7, 8, 9, 10, 11, 3, 4, 5, 6, 7, 8, 9, 10, 11, 12, 4, 5, 6, 7, 8, 9, 10, 11, 12, 13, 5, 6, 7, 8, 9, 10, 11, 12, 13, 14, 6, 7, 8, 9, 10, 11, 12, 13, 14, 15, 7, 8, 9, 10, 11, 12, 13, 14, 15, 16, 8, 9, 10, 11, 12, 13, 14, 15, 16, 17, 9, 10, 11, 12, 13, 14, 15, 16, 17, 18], [1, 2, 3, 4, 5, 6, 7, 8, 9, 10, 2, 3, 4, 5, 6, 7, 8, 9, 10, 11, 3, 4, 5, 6, 7, 8, 9, 10, 11, 12, 4, 5, 6, 7, 8, 9, 10, 11, 12, 13, 5, 6, 7, 8, 9, 10, 11, 12, 13, 14, 6, 7, 8, 9, 10, 11, 12, 13, 14, 15, 7, 8, 9, 10, 11, 12, 13, 14, 15, 16, 8, 9, 10, 11, 12, 13, 14, 15, 16, 17, 9, 10, 11, 12, 13, 14, 15, 16, 17, 18], [1, 2, 3, 4, 5, 6, 7, 8, 9, 10, 2, 3, 4, 5, 6, 7, 8, 9, 10, 11, 3, 4, 5, 6, 7, 8, 9, 10, 11, 12, 4, 5, 6, 7, 8, 9, 10, 11, 12, 13, 5, 6, 7, 8, 9, 10, 11, 12, 13, 14, 6, 7, 8, 9, 10, 11, 12, 13, 14, 15, 7, 8, 9, 10, 11, 12, 13, 14, 15, 16, 8, 9, 10, 11, 12, 13, 14, 15, 16, 17, 9, 10, 11, 12, 13, 14, 15, 16, 17, 18], [1, 2, 3, 4, 5, 6, 7, 8, 9, 10, 2, 3, 4, 5, 6, 7, 8, 9, 10, 11, 3, 4, 5, 6, 7, 8, 9, 10, 11, 12, 4, 5, 6, 7, 8, 9, 10, 11, 12, 13, 5, 6, 7, 8, 9, 10, 11, 12, 13, 14, 6, 7, 8, 9, 10, 11, 12, 13, 14, 15, 7, 8, 9, 10, 11, 12, 13, 14, 15, 16, 8, 9, 10, 11, 12, 13, 14, 15, 16, 17, 9, 10, 11, 12, 13, 14, 15, 16, 17, 18], [1, 2, 3, 4, 5, 6, 7, 8, 9, 10, 2, 3, 4, 5, 6, 7, 8, 9, 10, 11, 3, 4, 5, 6, 7, 8, 9, 10, 11, 12, 4, 5, 6, 7, 8, 9, 10, 11, 12, 13, 5, 6, 7, 8, 9, 10, 11, 12, 13, 14, 6, 7, 8, 9, 10, 11, 12, 13, 14, 15, 7, 8, 9, 10, 11, 12, 13, 14, 15, 16, 8, 9, 10, 11, 12, 13, 14, 15, 16, 17, 9, 10, 11, 12, 13, 14, 15, 16, 17, 18], [1, 2, 3, 4, 5, 6, 7, 8, 9, 10, 2, 3, 4, 5, 6, 7, 8, 9, 10, 11, 3, 4, 5, 6, 7, 8, 9, 10, 11, 12, 4, 5, 6, 7, 8, 9, 10, 11, 12, 13, 5, 6, 7, 8, 9, 10, 11, 12, 13, 14, 6, 7, 8, 9, 10, 11, 12, 13, 14, 15, 7, 8, 9, 10, 11, 12, 13, 14, 15, 16, 8, 9, 10, 11, 12, 13, 14, 15, 16, 17, 9, 10, 11, 12, 13, 14, 15, 16, 17, 18], [1, 2, 3, 4, 5, 6, 7, 8, 9, 10, 2, 3, 4, 5, 6, 7, 8, 9, 10, 11, 3, 4, 5, 6, 7, 8, 9, 10, 11, 12, 4, 5, 6, 7, 8, 9, 10, 11, 12, 13, 5, 6, 7, 8, 9, 10, 11, 12, 13, 14, 6, 7, 8, 9, 10, 11, 12, 13, 14, 15, 7, 8, 9, 10, 11, 12, 13, 14, 15, 16, 8, 9, 10, 11, 12, 13, 14, 15, 16, 17, 9, 10, 11, 12, 13, 14, 15, 16, 17, 18], [1, 2, 3, 4, 5, 6, 7, 8, 9, 10, 2, 3, 4, 5, 6, 7, 8, 9, 10, 11, 3, 4, 5, 6, 7, 8, 9, 10, 11, 12, 4, 5, 6, 7, 8, 9, 10, 11, 12, 13, 5, 6, 7, 8, 9, 10, 11, 12, 13, 14, 6, 7, 8, 9, 10, 11, 12, 13, 14, 15, 7, 8, 9, 10, 11, 12, 13, 14, 15, 16, 8, 9, 10, 11, 12, 13, 14, 15, 16, 17, 9, 10, 11, 12, 13, 14, 15, 16, 17, 18], [1, 2, 3, 4, 5, 6, 7, 8, 9, 10, 2, 3, 4, 5, 6, 7, 8, 9, 10, 11, 3, 4, 5, 6, 7, 8, 9, 10, 11, 12, 4, 5, 6, 7, 8, 9, 10, 11, 12, 13, 5, 6, 7, 8, 9, 10, 11, 12, 13, 14, 6, 7, 8, 9, 10, 11, 12, 13, 14, 15, 7, 8, 9, 10, 11, 12, 13, 14, 15, 16, 8, 9, 10, 11, 12, 13, 14, 15, 16, 17, 9, 10, 11, 12, 13, 14, 15, 16, 17, 18]]\n"
     ]
    }
   ],
   "source": [
    "create_box_constraints()"
   ],
   "metadata": {
    "collapsed": false
   }
  },
  {
   "cell_type": "code",
   "execution_count": null,
   "outputs": [],
   "source": [],
   "metadata": {
    "collapsed": false
   }
  }
 ],
 "metadata": {
  "kernelspec": {
   "display_name": "Python 3",
   "language": "python",
   "name": "python3"
  },
  "language_info": {
   "codemirror_mode": {
    "name": "ipython",
    "version": 2
   },
   "file_extension": ".py",
   "mimetype": "text/x-python",
   "name": "python",
   "nbconvert_exporter": "python",
   "pygments_lexer": "ipython2",
   "version": "2.7.6"
  }
 },
 "nbformat": 4,
 "nbformat_minor": 0
}
